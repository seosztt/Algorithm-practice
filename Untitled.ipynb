{
 "cells": [
  {
   "cell_type": "code",
   "execution_count": 16,
   "id": "63b91a06",
   "metadata": {},
   "outputs": [],
   "source": [
    " numData = \\\n",
    "    [\n",
    "        [ 5, 7, -5, 100, 73 ],\n",
    "        [ 35, 23, 4, 190, 33 ],\n",
    "        [ 49, 85, 662, 39, 81 ],\n",
    "        [ 124, -59, 86, 46, 52 ],\n",
    "        [ 27, 7, 8, 33, -56 ] \n",
    "    ]"
   ]
  },
  {
   "cell_type": "code",
   "execution_count": 15,
   "id": "0a0c641d",
   "metadata": {},
   "outputs": [
    {
     "data": {
      "text/plain": [
       "0"
      ]
     },
     "execution_count": 15,
     "metadata": {},
     "output_type": "execute_result"
    }
   ],
   "source": [
    "numData"
   ]
  },
  {
   "cell_type": "code",
   "execution_count": 3,
   "id": "eb7b63e3",
   "metadata": {},
   "outputs": [
    {
     "data": {
      "text/plain": [
       "[5, 7, -5, 100, 73]"
      ]
     },
     "execution_count": 3,
     "metadata": {},
     "output_type": "execute_result"
    }
   ],
   "source": [
    "numData[0]"
   ]
  },
  {
   "cell_type": "code",
   "execution_count": 4,
   "id": "555b8746",
   "metadata": {},
   "outputs": [
    {
     "data": {
      "text/plain": [
       "5"
      ]
     },
     "execution_count": 4,
     "metadata": {},
     "output_type": "execute_result"
    }
   ],
   "source": [
    "numData[0][0]"
   ]
  },
  {
   "cell_type": "code",
   "execution_count": 5,
   "id": "3028be78",
   "metadata": {},
   "outputs": [
    {
     "data": {
      "text/plain": [
       "[[5, 7, -5, 100, 73],\n",
       " [35, 23, 4, 190, 33],\n",
       " [49, 85, 662, 39, 81],\n",
       " [124, -59, 86, 46, 52]]"
      ]
     },
     "execution_count": 5,
     "metadata": {},
     "output_type": "execute_result"
    }
   ],
   "source": [
    "numData[:4][:4]"
   ]
  },
  {
   "cell_type": "code",
   "execution_count": 22,
   "id": "6faf9365",
   "metadata": {},
   "outputs": [
    {
     "ename": "SyntaxError",
     "evalue": "unexpected EOF while parsing (<ipython-input-22-ae6275e6a3c2>, line 3)",
     "output_type": "error",
     "traceback": [
      "\u001b[1;36m  File \u001b[1;32m\"<ipython-input-22-ae6275e6a3c2>\"\u001b[1;36m, line \u001b[1;32m3\u001b[0m\n\u001b[1;33m    for i in range(0, 4):\u001b[0m\n\u001b[1;37m                         ^\u001b[0m\n\u001b[1;31mSyntaxError\u001b[0m\u001b[1;31m:\u001b[0m unexpected EOF while parsing\n"
     ]
    }
   ],
   "source": []
  },
  {
   "cell_type": "code",
   "execution_count": null,
   "id": "25c9f2c4",
   "metadata": {},
   "outputs": [],
   "source": []
  }
 ],
 "metadata": {
  "kernelspec": {
   "display_name": "Python 3",
   "language": "python",
   "name": "python3"
  },
  "language_info": {
   "codemirror_mode": {
    "name": "ipython",
    "version": 3
   },
   "file_extension": ".py",
   "mimetype": "text/x-python",
   "name": "python",
   "nbconvert_exporter": "python",
   "pygments_lexer": "ipython3",
   "version": "3.8.8"
  }
 },
 "nbformat": 4,
 "nbformat_minor": 5
}
