{
 "cells": [
  {
   "cell_type": "code",
   "execution_count": 125,
   "id": "499cc823",
   "metadata": {},
   "outputs": [],
   "source": [
    "## 함수\n",
    "def isQueueFull():\n",
    "    global SIZE, queue, front, rear\n",
    "    if (rear != SIZE-1):\n",
    "        return False\n",
    "    elif (rear == SIZE-1) and (front == -1):\n",
    "        return True\n",
    "    else :\n",
    "        for i in range(front+1, SIZE, 1):\n",
    "            queue[i-1] = queue[i]\n",
    "            queue[i]=None\n",
    "        front -=1\n",
    "        rear -=1\n",
    "        return False\n",
    "\n",
    "def enQueue(data):\n",
    "    global SIZE, queue, front, rear\n",
    "    if (isQueueFull()) :\n",
    "        print('Queue Full')\n",
    "        return\n",
    "    else :\n",
    "        rear += 1\n",
    "        queue[rear] = data\n",
    "        return print('출구<--', queue, '<--입구')\n",
    "    \n",
    "def isQueueEmpty():\n",
    "    global SIZE, queue, front, rear\n",
    "    if (front==rear):\n",
    "        return True\n",
    "    else:\n",
    "        return False\n",
    "    \n",
    "def deQueue():\n",
    "    global SIZE, queue, front, rear\n",
    "    if (isQueueEmpty()):\n",
    "        print('Empty Queue')\n",
    "        return None\n",
    "    else:\n",
    "        front += 1\n",
    "        retData = queue[front]\n",
    "        queue[front]=None\n",
    "        print('들어간 손님 -->', retData)\n",
    "        print('출구<--', queue, '<--입구')\n",
    "        return\n",
    "    \n",
    "def peek():\n",
    "    global SIZE, queue, front, rear\n",
    "    if (isQueueEmpty()):\n",
    "        print('Empty Queue')\n",
    "        return None\n",
    "    else:\n",
    "        return print('다음 손님 대기하세요 -->', queue[front+1])"
   ]
  },
  {
   "cell_type": "code",
   "execution_count": 121,
   "id": "66825676",
   "metadata": {},
   "outputs": [],
   "source": [
    "## 전역\n",
    "SIZE=5\n",
    "queue=[None for _ in range(SIZE)] # 큐 초기화\n",
    "front, rear = -1, -1"
   ]
  },
  {
   "cell_type": "code",
   "execution_count": 44,
   "id": "0993bf48",
   "metadata": {},
   "outputs": [],
   "source": [
    "## 메인"
   ]
  },
  {
   "cell_type": "code",
   "execution_count": 126,
   "id": "d013694f",
   "metadata": {
    "scrolled": true
   },
   "outputs": [
    {
     "name": "stdout",
     "output_type": "stream",
     "text": [
      "출구<-- ['솔라', '문별', '솔라', '문별', '솔라'] <--입구\n",
      "Queue Full\n"
     ]
    }
   ],
   "source": [
    "enQueue('솔라')\n",
    "enQueue('문별')"
   ]
  },
  {
   "cell_type": "code",
   "execution_count": 115,
   "id": "bb1f2a82",
   "metadata": {
    "scrolled": true
   },
   "outputs": [
    {
     "name": "stdout",
     "output_type": "stream",
     "text": [
      "Empty Queue\n"
     ]
    }
   ],
   "source": [
    "deQueue()"
   ]
  },
  {
   "cell_type": "code",
   "execution_count": 87,
   "id": "c36988f9",
   "metadata": {},
   "outputs": [
    {
     "name": "stdout",
     "output_type": "stream",
     "text": [
      "Empty Queue\n"
     ]
    }
   ],
   "source": [
    "peek()"
   ]
  },
  {
   "cell_type": "code",
   "execution_count": 112,
   "id": "eec27c88",
   "metadata": {},
   "outputs": [
    {
     "data": {
      "text/plain": [
       "[None, None, None, None, '문별']"
      ]
     },
     "execution_count": 112,
     "metadata": {},
     "output_type": "execute_result"
    }
   ],
   "source": [
    "queue"
   ]
  },
  {
   "cell_type": "code",
   "execution_count": null,
   "id": "19e7af70",
   "metadata": {},
   "outputs": [],
   "source": []
  }
 ],
 "metadata": {
  "kernelspec": {
   "display_name": "Python 3",
   "language": "python",
   "name": "python3"
  },
  "language_info": {
   "codemirror_mode": {
    "name": "ipython",
    "version": 3
   },
   "file_extension": ".py",
   "mimetype": "text/x-python",
   "name": "python",
   "nbconvert_exporter": "python",
   "pygments_lexer": "ipython3",
   "version": "3.8.8"
  }
 },
 "nbformat": 4,
 "nbformat_minor": 5
}
