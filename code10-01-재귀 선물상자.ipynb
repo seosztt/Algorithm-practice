{
 "cells": [
  {
   "cell_type": "code",
   "execution_count": 8,
   "id": "1725e9a8",
   "metadata": {},
   "outputs": [],
   "source": [
    "## 함수\n",
    "def openBox() :\n",
    "    global count\n",
    "    print('박스 열기~~~')\n",
    "    count -= 1\n",
    "    if count == 0 :\n",
    "        print('## 박스에 선물 넣기 ##')\n",
    "        return\n",
    "    openBox()\n",
    "    print('박스 닫기!!')"
   ]
  },
  {
   "cell_type": "code",
   "execution_count": 7,
   "id": "4350e31d",
   "metadata": {},
   "outputs": [],
   "source": [
    "## 변수\n",
    "count=10"
   ]
  },
  {
   "cell_type": "code",
   "execution_count": 9,
   "id": "b9ed1984",
   "metadata": {},
   "outputs": [
    {
     "name": "stdout",
     "output_type": "stream",
     "text": [
      "박스 열기~~~\n",
      "박스 열기~~~\n",
      "박스 열기~~~\n",
      "박스 열기~~~\n",
      "박스 열기~~~\n",
      "박스 열기~~~\n",
      "박스 열기~~~\n",
      "박스 열기~~~\n",
      "박스 열기~~~\n",
      "박스 열기~~~\n",
      "## 박스에 선물 넣기 ##\n",
      "박스 닫기!!\n",
      "박스 닫기!!\n",
      "박스 닫기!!\n",
      "박스 닫기!!\n",
      "박스 닫기!!\n",
      "박스 닫기!!\n",
      "박스 닫기!!\n",
      "박스 닫기!!\n",
      "박스 닫기!!\n"
     ]
    }
   ],
   "source": [
    "## 메인\n",
    "openBox()"
   ]
  },
  {
   "cell_type": "code",
   "execution_count": null,
   "id": "cbfaf223",
   "metadata": {},
   "outputs": [],
   "source": []
  }
 ],
 "metadata": {
  "kernelspec": {
   "display_name": "Python 3",
   "language": "python",
   "name": "python3"
  },
  "language_info": {
   "codemirror_mode": {
    "name": "ipython",
    "version": 3
   },
   "file_extension": ".py",
   "mimetype": "text/x-python",
   "name": "python",
   "nbconvert_exporter": "python",
   "pygments_lexer": "ipython3",
   "version": "3.8.8"
  }
 },
 "nbformat": 4,
 "nbformat_minor": 5
}
