{
 "cells": [
  {
   "cell_type": "code",
   "execution_count": 4,
   "id": "d212081f",
   "metadata": {},
   "outputs": [],
   "source": [
    "## 함수\n",
    "class TreeNode() : # 트리노드의 틀(붕어빵 기계)\n",
    "    def __init__(self):\n",
    "        self.left=None\n",
    "        self.data=None\n",
    "        self.right=None"
   ]
  },
  {
   "cell_type": "code",
   "execution_count": null,
   "id": "1c4403e8",
   "metadata": {},
   "outputs": [],
   "source": [
    "## 전역"
   ]
  },
  {
   "cell_type": "code",
   "execution_count": 6,
   "id": "61bd7e43",
   "metadata": {},
   "outputs": [],
   "source": [
    "## 메인\n",
    "node1 = TreeNode()\n",
    "node1.data='화사'\n",
    "\n",
    "node2 = TreeNode()\n",
    "node2.data='솔라'\n",
    "node1.left=node2\n",
    "\n",
    "node3 = TreeNode()\n",
    "node3.data='문별'\n",
    "node1.right=node3\n",
    "\n",
    "node4 = TreeNode()\n",
    "node4.data='휘인'\n",
    "node2.left=node4\n",
    "\n",
    "node5 = TreeNode()\n",
    "node5.data='쯔위'\n",
    "node2.right=node5\n",
    "\n",
    "node6 = TreeNode()\n",
    "node6.data='선미'\n",
    "node3.left=node6"
   ]
  },
  {
   "cell_type": "code",
   "execution_count": 9,
   "id": "d868c86b",
   "metadata": {},
   "outputs": [
    {
     "name": "stdout",
     "output_type": "stream",
     "text": [
      "화사\n",
      "솔라 문별\n",
      "휘인 쯔위 선미\n"
     ]
    }
   ],
   "source": [
    "print(node1.data)\n",
    "print(node1.left.data, node1.right.data)\n",
    "print(node1.left.left.data, node1.left.right.data, node1.right.left.data)"
   ]
  },
  {
   "cell_type": "code",
   "execution_count": null,
   "id": "a45a8f97",
   "metadata": {},
   "outputs": [],
   "source": []
  }
 ],
 "metadata": {
  "kernelspec": {
   "display_name": "Python 3",
   "language": "python",
   "name": "python3"
  },
  "language_info": {
   "codemirror_mode": {
    "name": "ipython",
    "version": 3
   },
   "file_extension": ".py",
   "mimetype": "text/x-python",
   "name": "python",
   "nbconvert_exporter": "python",
   "pygments_lexer": "ipython3",
   "version": "3.8.8"
  }
 },
 "nbformat": 4,
 "nbformat_minor": 5
}
