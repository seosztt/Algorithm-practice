{
 "cells": [
  {
   "cell_type": "code",
   "execution_count": null,
   "id": "0721bba1",
   "metadata": {},
   "outputs": [],
   "source": [
    "## 함수"
   ]
  },
  {
   "cell_type": "code",
   "execution_count": null,
   "id": "bb5b40a6",
   "metadata": {},
   "outputs": [],
   "source": [
    "## 변수"
   ]
  },
  {
   "cell_type": "code",
   "execution_count": 27,
   "id": "ba5ce241",
   "metadata": {},
   "outputs": [],
   "source": [
    "stack = [None,None,None,None,None]\n",
    "top=-1"
   ]
  },
  {
   "cell_type": "code",
   "execution_count": null,
   "id": "d60edb9c",
   "metadata": {},
   "outputs": [],
   "source": [
    "## 메인"
   ]
  },
  {
   "cell_type": "code",
   "execution_count": 37,
   "id": "66c2439f",
   "metadata": {},
   "outputs": [
    {
     "name": "stdout",
     "output_type": "stream",
     "text": [
      "바닥| ['녹차', '녹차', '녹차', '녹차', None]\n"
     ]
    }
   ],
   "source": [
    "# push를 구현\n",
    "top += 1\n",
    "stack[top]='녹차'\n",
    "print('바닥|', stack)"
   ]
  },
  {
   "cell_type": "code",
   "execution_count": 40,
   "id": "87e4e65f",
   "metadata": {},
   "outputs": [
    {
     "name": "stdout",
     "output_type": "stream",
     "text": [
      "추출--> 녹차\n",
      "바닥 | ['녹차', None, None, None, None]\n"
     ]
    }
   ],
   "source": [
    "# Pop 구현\n",
    "data=stack[top]\n",
    "stack[top]=None\n",
    "top -= 1\n",
    "print('추출-->', data)\n",
    "print('바닥 |', stack)"
   ]
  }
 ],
 "metadata": {
  "kernelspec": {
   "display_name": "Python 3",
   "language": "python",
   "name": "python3"
  },
  "language_info": {
   "codemirror_mode": {
    "name": "ipython",
    "version": 3
   },
   "file_extension": ".py",
   "mimetype": "text/x-python",
   "name": "python",
   "nbconvert_exporter": "python",
   "pygments_lexer": "ipython3",
   "version": "3.8.8"
  }
 },
 "nbformat": 4,
 "nbformat_minor": 5
}
