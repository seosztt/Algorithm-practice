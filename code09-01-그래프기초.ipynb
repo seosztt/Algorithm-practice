{
 "cells": [
  {
   "cell_type": "code",
   "execution_count": 6,
   "id": "6550fe35",
   "metadata": {},
   "outputs": [],
   "source": [
    "## 함수\n",
    "class Graph() :\n",
    "    def __init__(self, size):\n",
    "        self.SIZE = size\n",
    "        self.graph = [[0 for _ in range(size)] for _ in range(size)]\n",
    "        "
   ]
  },
  {
   "cell_type": "code",
   "execution_count": 11,
   "id": "d24b4348",
   "metadata": {},
   "outputs": [
    {
     "name": "stdout",
     "output_type": "stream",
     "text": [
      "0  1  1  1  \n",
      "1  0  1  0  \n",
      "1  1  0  1  \n",
      "1  0  1  0  \n"
     ]
    }
   ],
   "source": [
    "## 전역\n",
    "A,B,C,D=0,1,2,3\n",
    "G=Graph(4)\n",
    "G.graph[A][B]=1\n",
    "G.graph[A][C]=1\n",
    "G.graph[A][D]=1\n",
    "G.graph[C][D]=1\n",
    "G.graph[B][A]=1\n",
    "G.graph[C][A]=1\n",
    "G.graph[D][A]=1\n",
    "G.graph[D][C]=1\n",
    "G.graph[B][C]=1\n",
    "G.graph[C][B]=1\n",
    "\n",
    "for i in range(4) :\n",
    "    for j in range(4) :\n",
    "        print(G.graph[i][j], end='  ')\n",
    "    print()"
   ]
  },
  {
   "cell_type": "code",
   "execution_count": null,
   "id": "48b47046",
   "metadata": {},
   "outputs": [],
   "source": [
    "## 메인"
   ]
  }
 ],
 "metadata": {
  "kernelspec": {
   "display_name": "Python 3",
   "language": "python",
   "name": "python3"
  },
  "language_info": {
   "codemirror_mode": {
    "name": "ipython",
    "version": 3
   },
   "file_extension": ".py",
   "mimetype": "text/x-python",
   "name": "python",
   "nbconvert_exporter": "python",
   "pygments_lexer": "ipython3",
   "version": "3.8.8"
  }
 },
 "nbformat": 4,
 "nbformat_minor": 5
}
