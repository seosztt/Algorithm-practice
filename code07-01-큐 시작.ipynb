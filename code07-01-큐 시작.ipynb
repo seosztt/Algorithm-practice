{
 "cells": [
  {
   "cell_type": "code",
   "execution_count": null,
   "id": "48e226f7",
   "metadata": {},
   "outputs": [],
   "source": [
    "## 함수\n",
    "def isQueueFull():\n",
    "    global SIZE, queue, front, rear"
   ]
  },
  {
   "cell_type": "code",
   "execution_count": 12,
   "id": "14673795",
   "metadata": {},
   "outputs": [],
   "source": [
    "## 전역\n",
    "SIZE=5\n",
    "queue=[None for _ in range(SIZE)] # 큐 초기화\n",
    "front, rear = -1, -1"
   ]
  },
  {
   "cell_type": "code",
   "execution_count": 13,
   "id": "cdacdfa6",
   "metadata": {},
   "outputs": [
    {
     "name": "stdout",
     "output_type": "stream",
     "text": [
      "출구<-- ['화사', '솔라', None, None, None] <--입구\n"
     ]
    }
   ],
   "source": [
    "## 메인\n",
    "# enQueue\n",
    "rear += 1\n",
    "queue[rear]='화사'\n",
    "rear += 1\n",
    "queue[rear]='솔라'\n",
    "print('출구<--', queue, '<--입구')"
   ]
  },
  {
   "cell_type": "code",
   "execution_count": 11,
   "id": "fd7fbe3f",
   "metadata": {},
   "outputs": [
    {
     "name": "stdout",
     "output_type": "stream",
     "text": [
      "들어갈 손님 --> None\n"
     ]
    }
   ],
   "source": [
    "# deQueue\n",
    "front += 1\n",
    "retData = queue[front]\n",
    "queue[front]=None\n",
    "print('들어갈 손님 -->', retData)"
   ]
  }
 ],
 "metadata": {
  "kernelspec": {
   "display_name": "Python 3",
   "language": "python",
   "name": "python3"
  },
  "language_info": {
   "codemirror_mode": {
    "name": "ipython",
    "version": 3
   },
   "file_extension": ".py",
   "mimetype": "text/x-python",
   "name": "python",
   "nbconvert_exporter": "python",
   "pygments_lexer": "ipython3",
   "version": "3.8.8"
  }
 },
 "nbformat": 4,
 "nbformat_minor": 5
}
