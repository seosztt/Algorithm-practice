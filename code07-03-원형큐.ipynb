{
 "cells": [
  {
   "cell_type": "code",
   "execution_count": 184,
   "id": "12ae78b9",
   "metadata": {},
   "outputs": [],
   "source": [
    "## 함수\n",
    "def isQueueFull():\n",
    "    global SIZE, queue, front, rear\n",
    "    if ((rear+1)%SIZE == front) :\n",
    "        return True\n",
    "    else :\n",
    "        return False\n",
    "\n",
    "def enQueue(data):\n",
    "    global SIZE, queue, front, rear\n",
    "    if (isQueueFull()) :\n",
    "        print('Queue Full')\n",
    "        return\n",
    "    else :\n",
    "        rear = (rear + 1)%SIZE\n",
    "        queue[rear] = data\n",
    "        if (front <= rear) :\n",
    "            print('출구<--', queue[front+1:rear+1], '<--입구')\n",
    "        else :\n",
    "            print('출구<--', queue[front+1:]+queue[:rear+1], '<--입구')\n",
    "        return\n",
    "    \n",
    "            \n",
    "def isQueueEmpty():\n",
    "    global SIZE, queue, front, rear\n",
    "    if (front==rear):\n",
    "        return True\n",
    "    else:\n",
    "        return False\n",
    "    \n",
    "def deQueue():\n",
    "    global SIZE, queue, front, rear\n",
    "    if (isQueueEmpty()):\n",
    "        print('Empty Queue')\n",
    "        return None\n",
    "    else:\n",
    "        front = (front +1) % SIZE\n",
    "        retData = queue[front]\n",
    "        queue[front]=None\n",
    "        print('들어간 손님 -->', retData)\n",
    "        if (front <= rear) :\n",
    "            print('출구<--', queue[front+1:rear+1], '<--입구')\n",
    "        else :\n",
    "            print('출구<--', queue[front+1:]+queue[:rear+1], '<--입구')\n",
    "        return\n",
    "    \n",
    "def peek():\n",
    "    global SIZE, queue, front, rear\n",
    "    if (isQueueEmpty()):\n",
    "        print('Empty Queue')\n",
    "        return None\n",
    "    else:\n",
    "        return print('다음 손님 대기하세요 -->', queue[(front+1)%SIZE])"
   ]
  },
  {
   "cell_type": "code",
   "execution_count": 185,
   "id": "4b317973",
   "metadata": {},
   "outputs": [],
   "source": [
    "## 전역\n",
    "SIZE=10\n",
    "queue=[None for _ in range(SIZE)] # 큐 초기화\n",
    "front, rear = 0, 0"
   ]
  },
  {
   "cell_type": "code",
   "execution_count": null,
   "id": "0394fcb1",
   "metadata": {},
   "outputs": [],
   "source": [
    "## 메인"
   ]
  },
  {
   "cell_type": "code",
   "execution_count": 209,
   "id": "8754060e",
   "metadata": {
    "scrolled": false
   },
   "outputs": [
    {
     "name": "stdout",
     "output_type": "stream",
     "text": [
      "출구<-- ['문별', '솔라', '화사', '휘인'] <--입구\n",
      "출구<-- ['문별', '솔라', '화사', '휘인', '문별'] <--입구\n",
      "출구<-- ['문별', '솔라', '화사', '휘인', '문별', '솔라'] <--입구\n",
      "출구<-- ['문별', '솔라', '화사', '휘인', '문별', '솔라', '화사'] <--입구\n"
     ]
    }
   ],
   "source": [
    "enQueue('휘인')\n",
    "enQueue('문별')\n",
    "enQueue('솔라')\n",
    "enQueue('화사')"
   ]
  },
  {
   "cell_type": "code",
   "execution_count": 210,
   "id": "2f4dd16c",
   "metadata": {
    "scrolled": true
   },
   "outputs": [
    {
     "name": "stdout",
     "output_type": "stream",
     "text": [
      "들어간 손님 --> 문별\n",
      "출구<-- ['솔라', '화사', '휘인', '문별', '솔라', '화사'] <--입구\n"
     ]
    }
   ],
   "source": [
    "deQueue()"
   ]
  },
  {
   "cell_type": "code",
   "execution_count": 211,
   "id": "153ee35a",
   "metadata": {
    "scrolled": true
   },
   "outputs": [
    {
     "name": "stdout",
     "output_type": "stream",
     "text": [
      "다음 손님 대기하세요 --> 솔라\n"
     ]
    }
   ],
   "source": [
    "peek()"
   ]
  },
  {
   "cell_type": "code",
   "execution_count": null,
   "id": "bfc2ccd8",
   "metadata": {},
   "outputs": [],
   "source": []
  }
 ],
 "metadata": {
  "kernelspec": {
   "display_name": "Python 3",
   "language": "python",
   "name": "python3"
  },
  "language_info": {
   "codemirror_mode": {
    "name": "ipython",
    "version": 3
   },
   "file_extension": ".py",
   "mimetype": "text/x-python",
   "name": "python",
   "nbconvert_exporter": "python",
   "pygments_lexer": "ipython3",
   "version": "3.8.8"
  }
 },
 "nbformat": 4,
 "nbformat_minor": 5
}
