{
 "cells": [
  {
   "cell_type": "code",
   "execution_count": null,
   "id": "9b7026af",
   "metadata": {},
   "outputs": [],
   "source": [
    "## 함수, 클래스"
   ]
  },
  {
   "cell_type": "code",
   "execution_count": 2,
   "id": "62c07e91",
   "metadata": {},
   "outputs": [],
   "source": [
    "class Node() :   # 붕어빵 기계\n",
    "    def  __init__(self):\n",
    "        self.data=None\n",
    "        self.link=None\n",
    "        "
   ]
  },
  {
   "cell_type": "code",
   "execution_count": null,
   "id": "f240fb0c",
   "metadata": {},
   "outputs": [],
   "source": []
  },
  {
   "cell_type": "code",
   "execution_count": null,
   "id": "7c303a99",
   "metadata": {},
   "outputs": [],
   "source": [
    "## 전역"
   ]
  },
  {
   "cell_type": "code",
   "execution_count": null,
   "id": "71686c7f",
   "metadata": {},
   "outputs": [],
   "source": []
  },
  {
   "cell_type": "code",
   "execution_count": null,
   "id": "a0576539",
   "metadata": {},
   "outputs": [],
   "source": []
  },
  {
   "cell_type": "code",
   "execution_count": 1,
   "id": "549c45f3",
   "metadata": {},
   "outputs": [],
   "source": [
    "## 메인"
   ]
  },
  {
   "cell_type": "code",
   "execution_count": 3,
   "id": "e28abe28",
   "metadata": {},
   "outputs": [],
   "source": [
    "node1=Node()\n",
    "node1.data='다현'\n",
    "\n",
    "node2=Node()\n",
    "node2.data='정연'\n",
    "node1.link=node2\n",
    "\n",
    "node3=Node()\n",
    "node3.data='쯔위'\n",
    "node2.link=node3\n",
    "\n",
    "node4=Node()\n",
    "node4.data='사나'\n",
    "node3.link=node4\n",
    "\n",
    "node5=Node()\n",
    "node5.data='지효'\n",
    "node4.link=node5"
   ]
  },
  {
   "cell_type": "code",
   "execution_count": 5,
   "id": "b745b8e9",
   "metadata": {},
   "outputs": [
    {
     "name": "stdout",
     "output_type": "stream",
     "text": [
      "다현  정연  쯔위  사나  지효  "
     ]
    }
   ],
   "source": [
    "print(node1.data, end='  ')\n",
    "print(node1.link.data, end='  ')\n",
    "print(node1.link.link.data, end='  ')\n",
    "print(node1.link.link.link.data, end='  ')\n",
    "print(node1.link.link.link.link.data, end='  ')"
   ]
  },
  {
   "cell_type": "code",
   "execution_count": 11,
   "id": "044f0852",
   "metadata": {},
   "outputs": [
    {
     "name": "stdout",
     "output_type": "stream",
     "text": [
      "다현  정연  사나  지효  "
     ]
    }
   ],
   "source": [
    "current=node1\n",
    "print(current.data, end='  ')\n",
    "while current.link != None :\n",
    "    current = current.link\n",
    "    print(current.data, end='  ')"
   ]
  },
  {
   "cell_type": "code",
   "execution_count": 8,
   "id": "47355567",
   "metadata": {},
   "outputs": [],
   "source": [
    "newnode=Node()\n",
    "newnode.data='재남'\n",
    "newnode.link=node2.link\n",
    "node2.link=newnode"
   ]
  },
  {
   "cell_type": "code",
   "execution_count": 10,
   "id": "01de691f",
   "metadata": {},
   "outputs": [],
   "source": [
    "node2.link=node3.link\n",
    "del(node3)"
   ]
  },
  {
   "cell_type": "code",
   "execution_count": null,
   "id": "cbdd9d8f",
   "metadata": {},
   "outputs": [],
   "source": []
  }
 ],
 "metadata": {
  "kernelspec": {
   "display_name": "Python 3",
   "language": "python",
   "name": "python3"
  },
  "language_info": {
   "codemirror_mode": {
    "name": "ipython",
    "version": 3
   },
   "file_extension": ".py",
   "mimetype": "text/x-python",
   "name": "python",
   "nbconvert_exporter": "python",
   "pygments_lexer": "ipython3",
   "version": "3.8.8"
  }
 },
 "nbformat": 4,
 "nbformat_minor": 5
}
