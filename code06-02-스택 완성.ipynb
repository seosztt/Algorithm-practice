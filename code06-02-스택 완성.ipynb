{
 "cells": [
  {
   "cell_type": "code",
   "execution_count": 21,
   "id": "e21e09cd",
   "metadata": {},
   "outputs": [],
   "source": [
    "## 함수\n",
    "def isStackFull() : # 스택 꽉 찬지 확인\n",
    "    global SIZE, stack, top\n",
    "    if (top == SIZE-1) :\n",
    "        return True\n",
    "    else :\n",
    "        return False\n",
    "    \n",
    "def push(data) : # 푸쉬\n",
    "    global SIZE, stack, top\n",
    "    if (isStackFull() == True) :\n",
    "        print('Stack Full')\n",
    "        return\n",
    "    else :\n",
    "        top += 1\n",
    "        stack[top]=data\n",
    "        return print('바닥 |', stack)\n",
    "    \n",
    "def isStackEmpty() : # 스택 비어있는지 확인\n",
    "    global SIZE, stack, top\n",
    "    if (top == -1):\n",
    "        return True\n",
    "    else:\n",
    "        return False\n",
    "    \n",
    "def pop():\n",
    "    global SIZE, stack, top\n",
    "    if (isStackEmpty()):\n",
    "        print('스택 텅!')\n",
    "        return None\n",
    "    data=stack[top]\n",
    "    stack[top]=None\n",
    "    top -= 1\n",
    "    return print('빼낸 것-->', data)\n",
    "\n",
    "def peek() : # 다음 확인만!\n",
    "    global SIZE, stack, top\n",
    "    if(isStackEmpty()) :\n",
    "        print('스택 텅!')\n",
    "        return None\n",
    "    return print('다음에 나올 것-->', stack[top])\n"
   ]
  },
  {
   "cell_type": "code",
   "execution_count": 2,
   "id": "33e3901a",
   "metadata": {},
   "outputs": [],
   "source": [
    "## 전역\n",
    "SIZE=5\n",
    "stack=[None for _ in range(SIZE)]\n",
    "top=-1"
   ]
  },
  {
   "cell_type": "code",
   "execution_count": 27,
   "id": "ebdd90f4",
   "metadata": {},
   "outputs": [
    {
     "name": "stdout",
     "output_type": "stream",
     "text": [
      "Stack Full\n"
     ]
    }
   ],
   "source": [
    "## 메인\n",
    "push('귤')"
   ]
  },
  {
   "cell_type": "code",
   "execution_count": 33,
   "id": "b472ce19",
   "metadata": {},
   "outputs": [
    {
     "name": "stdout",
     "output_type": "stream",
     "text": [
      "스택 텅!\n"
     ]
    }
   ],
   "source": [
    "pop()"
   ]
  },
  {
   "cell_type": "code",
   "execution_count": 16,
   "id": "ec249b52",
   "metadata": {},
   "outputs": [
    {
     "name": "stdout",
     "output_type": "stream",
     "text": [
      "다음에 나올 것--> 커피2\n"
     ]
    }
   ],
   "source": [
    "peek()"
   ]
  },
  {
   "cell_type": "code",
   "execution_count": null,
   "id": "1788db6c",
   "metadata": {},
   "outputs": [],
   "source": []
  }
 ],
 "metadata": {
  "kernelspec": {
   "display_name": "Python 3",
   "language": "python",
   "name": "python3"
  },
  "language_info": {
   "codemirror_mode": {
    "name": "ipython",
    "version": 3
   },
   "file_extension": ".py",
   "mimetype": "text/x-python",
   "name": "python",
   "nbconvert_exporter": "python",
   "pygments_lexer": "ipython3",
   "version": "3.8.8"
  }
 },
 "nbformat": 4,
 "nbformat_minor": 5
}
