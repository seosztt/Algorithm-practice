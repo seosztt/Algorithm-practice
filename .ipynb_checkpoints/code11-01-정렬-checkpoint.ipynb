{
 "cells": [
  {
   "cell_type": "code",
   "execution_count": 10,
   "id": "ad4989ab",
   "metadata": {},
   "outputs": [],
   "source": [
    "## 함수\n",
    "def findMinIndex(ary) :\n",
    "    minIdx = 0\n",
    "    for i in range(1, len(ary)) :\n",
    "        if ary[minIdx]>ary[i] :\n",
    "            minIdx = i\n",
    "    return minIdx"
   ]
  },
  {
   "cell_type": "code",
   "execution_count": 46,
   "id": "8efcc159",
   "metadata": {},
   "outputs": [],
   "source": [
    "## 변수\n",
    "# testAry=[55,88,33,77]\n",
    "import random\n",
    "before=[random.randint(100,999) for _ in range(20)]\n",
    "after=[]"
   ]
  },
  {
   "cell_type": "code",
   "execution_count": 47,
   "id": "6e0a8db7",
   "metadata": {},
   "outputs": [
    {
     "name": "stdout",
     "output_type": "stream",
     "text": [
      "정렬 전--> [320, 277, 424, 990, 468, 875, 259, 862, 154, 227, 411, 557, 453, 884, 796, 972, 626, 440, 350, 167]\n",
      "정렬 후--> [154, 167, 227, 259, 277, 320, 350, 411, 424, 440, 453, 468, 557, 626, 796, 862, 875, 884, 972, 990]\n"
     ]
    }
   ],
   "source": [
    "## 메인\n",
    "print('정렬 전-->', before)\n",
    "for i in range(len(before)):\n",
    "    minPos=findMinIndex(before)\n",
    "    after.append(before[minPos])\n",
    "    del(before[minPos])\n",
    "print('정렬 후-->', after)"
   ]
  },
  {
   "cell_type": "code",
   "execution_count": null,
   "id": "f50964ee",
   "metadata": {},
   "outputs": [],
   "source": []
  }
 ],
 "metadata": {
  "kernelspec": {
   "display_name": "Python 3",
   "language": "python",
   "name": "python3"
  },
  "language_info": {
   "codemirror_mode": {
    "name": "ipython",
    "version": 3
   },
   "file_extension": ".py",
   "mimetype": "text/x-python",
   "name": "python",
   "nbconvert_exporter": "python",
   "pygments_lexer": "ipython3",
   "version": "3.8.8"
  }
 },
 "nbformat": 4,
 "nbformat_minor": 5
}
