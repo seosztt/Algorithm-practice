{
 "cells": [
  {
   "cell_type": "code",
   "execution_count": null,
   "id": "a03f9e9c",
   "metadata": {},
   "outputs": [],
   "source": [
    "## 함수"
   ]
  },
  {
   "cell_type": "code",
   "execution_count": 11,
   "id": "30481dd3",
   "metadata": {},
   "outputs": [],
   "source": [
    "def add_data(friend) : # 함수 = function = 기능\n",
    "    katok.append(None) # 빈칸 1개 확보\n",
    "    kLen=len(katok)\n",
    "    katok[kLen-1]=friend"
   ]
  },
  {
   "cell_type": "code",
   "execution_count": 12,
   "id": "b52aae96",
   "metadata": {},
   "outputs": [],
   "source": [
    "def insert_data(position, friend) :\n",
    "    katok.append(None)\n",
    "    kLen=len(katok)\n",
    "    for i in range(kLen-1,position, -1) :\n",
    "        katok[i]=katok[i-1]\n",
    "        katok[i-1]=None\n",
    "    katok[position]=friend\n",
    "    "
   ]
  },
  {
   "cell_type": "code",
   "execution_count": 13,
   "id": "a98fdd47",
   "metadata": {},
   "outputs": [],
   "source": [
    "def delete_data(position) :\n",
    "    kLen=len(katok)\n",
    "    katok[position]=None\n",
    "    for i in range(position+1, kLen, 1) :\n",
    "        katok[i-1]=katok[i]\n",
    "        katok[i]=None\n",
    "    del(katok[kLen-1])"
   ]
  },
  {
   "cell_type": "code",
   "execution_count": null,
   "id": "7dcae7ec",
   "metadata": {},
   "outputs": [],
   "source": []
  },
  {
   "cell_type": "code",
   "execution_count": null,
   "id": "46017412",
   "metadata": {},
   "outputs": [],
   "source": [
    "## 전역"
   ]
  },
  {
   "cell_type": "code",
   "execution_count": 26,
   "id": "203881a9",
   "metadata": {},
   "outputs": [],
   "source": [
    "katok=[]\n"
   ]
  },
  {
   "cell_type": "code",
   "execution_count": null,
   "id": "86658372",
   "metadata": {},
   "outputs": [],
   "source": []
  },
  {
   "cell_type": "code",
   "execution_count": null,
   "id": "680edd39",
   "metadata": {},
   "outputs": [],
   "source": [
    "## 메인"
   ]
  },
  {
   "cell_type": "code",
   "execution_count": 40,
   "id": "8f03170b",
   "metadata": {
    "scrolled": true
   },
   "outputs": [
    {
     "name": "stdout",
     "output_type": "stream",
     "text": [
      "선택(1추가, 2삽입, 3삭제, 4종료)-->4\n",
      "종료4\n"
     ]
    }
   ],
   "source": [
    "select=-1 # 1추가, 2삽입, 3삭제, 4종료\n",
    "while (select !=4) :\n",
    "    select = int(input('선택(1추가, 2삽입, 3삭제, 4종료)-->'))\n",
    "    \n",
    "    if(select == 1) :\n",
    "        data=input('추가할 친구-->') # 추가작동\n",
    "        add_data(data)\n",
    "    elif(select == 2) :\n",
    "        number=int(input('삽입할 위치-->')) # 삽입작동\n",
    "        data=input('삽입할 친구-->') \n",
    "        insert_data(number, data)\n",
    "    elif(select==3) :\n",
    "        number=int(input('삭제할 위치-->')) # 삭제작동\n",
    "        delete_data(number)\n",
    "    elif(select==4) :\n",
    "        input('종료') # 종료\n",
    "    else:\n",
    "        print('잘못입력!')"
   ]
  },
  {
   "cell_type": "code",
   "execution_count": 34,
   "id": "71027fc9",
   "metadata": {},
   "outputs": [],
   "source": [
    "delete_data(5)"
   ]
  },
  {
   "cell_type": "code",
   "execution_count": 37,
   "id": "b83f48d6",
   "metadata": {},
   "outputs": [
    {
     "data": {
      "text/plain": [
       "['다현', '정연', '쯔위', '미나', '지효', '모모']"
      ]
     },
     "execution_count": 37,
     "metadata": {},
     "output_type": "execute_result"
    }
   ],
   "source": [
    "katok"
   ]
  },
  {
   "cell_type": "code",
   "execution_count": null,
   "id": "c42403ee",
   "metadata": {},
   "outputs": [],
   "source": []
  }
 ],
 "metadata": {
  "kernelspec": {
   "display_name": "Python 3",
   "language": "python",
   "name": "python3"
  },
  "language_info": {
   "codemirror_mode": {
    "name": "ipython",
    "version": 3
   },
   "file_extension": ".py",
   "mimetype": "text/x-python",
   "name": "python",
   "nbconvert_exporter": "python",
   "pygments_lexer": "ipython3",
   "version": "3.8.8"
  }
 },
 "nbformat": 4,
 "nbformat_minor": 5
}
