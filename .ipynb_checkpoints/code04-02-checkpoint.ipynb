{
 "cells": [
  {
   "cell_type": "code",
   "execution_count": null,
   "id": "d83b603e",
   "metadata": {},
   "outputs": [],
   "source": [
    "## 함수"
   ]
  },
  {
   "cell_type": "code",
   "execution_count": 35,
   "id": "aae9e8ac",
   "metadata": {},
   "outputs": [],
   "source": [
    "class Node() :  # 붕어빵 기계\n",
    "    def __init__(self):\n",
    "        self.data = None\n",
    "        self.link = None\n",
    "\n",
    "def printNodes(start):\n",
    "    current = start\n",
    "    print(current.data, end='  ')\n",
    "    while current.link != None:\n",
    "        current = current.link\n",
    "        print(current.data, end='  ')\n",
    "    print()\n",
    "\n",
    "def insert_node(findData, insertData) :\n",
    "    global memory, head, current, pre\n",
    "    if (findData == head.data) :\n",
    "        node = Node()\n",
    "        node.data = insertData\n",
    "        node.link = head\n",
    "        head = node\n",
    "        memory.append(node)\n",
    "        return\n",
    "    current = head\n",
    "    while current.link != None :\n",
    "        pre = current\n",
    "        current = current.link\n",
    "        if (current.data == findData) :\n",
    "            node = Node()\n",
    "            node.data = insertData\n",
    "            node.link = current\n",
    "            pre.link = node\n",
    "            memory.append(node)\n",
    "            return\n",
    "    node=Node()\n",
    "    node.data=insertData\n",
    "    current.link=node\n",
    "    memory.append(node)\n",
    "    \n",
    "def delete_node(delData) :\n",
    "    global memory, head, current, pre\n",
    "    if (head.data == delData) :\n",
    "        current = head\n",
    "        head = head.link\n",
    "        del(current)\n",
    "        return\n",
    "    current = head\n",
    "    while (current.link != None) :\n",
    "        pre = current\n",
    "        current = current.link\n",
    "        if (current.data == delData) :\n",
    "            pre.link = current.link\n",
    "            del(current)\n",
    "            return\n",
    "\n",
    "def find_node(findData) :\n",
    "    global memory, head, current, pre\n",
    "    current = head\n",
    "    if current.data == findData :\n",
    "        return  current\n",
    "    while current.link != None :\n",
    "        current = current.link\n",
    "        if current.data == findData:\n",
    "            return current\n",
    "    return Node() # 빈 노드 반환"
   ]
  },
  {
   "cell_type": "code",
   "execution_count": null,
   "id": "bdc72528",
   "metadata": {},
   "outputs": [],
   "source": []
  },
  {
   "cell_type": "code",
   "execution_count": null,
   "id": "7d79499f",
   "metadata": {},
   "outputs": [],
   "source": [
    "## 전역"
   ]
  },
  {
   "cell_type": "code",
   "execution_count": 20,
   "id": "bed490bc",
   "metadata": {},
   "outputs": [],
   "source": [
    "memory = []\n",
    "head, current, pre = None, None, None\n",
    "# 데이터 집합 (실무 DB, 웹클롤링, 센서신호.....)\n",
    "dataArray = ['다현', '정연', '쯔위', '사나', '지효']"
   ]
  },
  {
   "cell_type": "code",
   "execution_count": null,
   "id": "f78215b6",
   "metadata": {},
   "outputs": [],
   "source": []
  },
  {
   "cell_type": "code",
   "execution_count": null,
   "id": "23d4fa52",
   "metadata": {},
   "outputs": [],
   "source": []
  },
  {
   "cell_type": "code",
   "execution_count": null,
   "id": "6d146f04",
   "metadata": {},
   "outputs": [],
   "source": [
    "## 메인"
   ]
  },
  {
   "cell_type": "code",
   "execution_count": 36,
   "id": "a11e7d25",
   "metadata": {},
   "outputs": [
    {
     "name": "stdout",
     "output_type": "stream",
     "text": [
      "다현  정연  쯔위  사나  지효  \n",
      "화사  다현  정연  쯔위  사나  지효  \n",
      "화사  다현  정연  쯔위  솔라  사나  지효  \n",
      "화사  다현  정연  쯔위  솔라  사나  지효  문별  \n",
      "다현  정연  쯔위  솔라  사나  지효  문별  \n",
      "다현  정연  쯔위  솔라  지효  문별  \n",
      "다현\n",
      "지효\n",
      "None\n"
     ]
    }
   ],
   "source": [
    "# 첫 노드\n",
    "node = Node()\n",
    "node.data = dataArray[0]\n",
    "head = node\n",
    "memory.append(node)\n",
    "# 그외 노드\n",
    "for data in dataArray[1:] : #['정연', '쯔위',...\n",
    "    pre = node\n",
    "    node = Node()\n",
    "    node.data = data\n",
    "    pre.link = node\n",
    "    memory.append(node)\n",
    "printNodes(head)\n",
    "\n",
    "insert_node('다현', '화사')\n",
    "printNodes(head)\n",
    "insert_node('사나', '솔라')\n",
    "printNodes(head)\n",
    "insert_node('재남', '문별')\n",
    "printNodes(head)\n",
    "\n",
    "\n",
    "delete_node('화사')\n",
    "printNodes(head)\n",
    "delete_node('사나')\n",
    "printNodes(head)\n",
    "\n",
    "fNode = find_node('다현')\n",
    "print(fNode.data)\n",
    "fNode = find_node('지효')\n",
    "print(fNode.data)\n",
    "fNode = find_node('재남')\n",
    "print(fNode.data)"
   ]
  },
  {
   "cell_type": "code",
   "execution_count": null,
   "id": "b1bbf25e",
   "metadata": {},
   "outputs": [],
   "source": []
  }
 ],
 "metadata": {
  "kernelspec": {
   "display_name": "Python 3",
   "language": "python",
   "name": "python3"
  },
  "language_info": {
   "codemirror_mode": {
    "name": "ipython",
    "version": 3
   },
   "file_extension": ".py",
   "mimetype": "text/x-python",
   "name": "python",
   "nbconvert_exporter": "python",
   "pygments_lexer": "ipython3",
   "version": "3.8.8"
  }
 },
 "nbformat": 4,
 "nbformat_minor": 5
}
