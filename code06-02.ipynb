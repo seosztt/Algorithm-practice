{
 "cells": [
  {
   "cell_type": "code",
   "execution_count": 1,
   "id": "e21e09cd",
   "metadata": {},
   "outputs": [],
   "source": [
    "## 함수\n",
    "def isStackFull() : # 스택 꽉 찬지 확인\n",
    "    global SIZE, stack, top\n",
    "    if (top == SIZE-1) :\n",
    "        return True\n",
    "    else :\n",
    "        return False\n",
    "    \n",
    "def push(data) : # 푸쉬\n",
    "    global SIZE, stack, top\n",
    "    if (isStackFull() == True) :\n",
    "        print('Stack Full')\n",
    "        return\n",
    "    top += 1\n",
    "    stack[top]=data"
   ]
  },
  {
   "cell_type": "code",
   "execution_count": 2,
   "id": "33e3901a",
   "metadata": {},
   "outputs": [],
   "source": [
    "## 전역\n",
    "SIZE=5\n",
    "stack=[None for _ in range(SIZE)]\n",
    "top=-1"
   ]
  },
  {
   "cell_type": "code",
   "execution_count": 3,
   "id": "ebdd90f4",
   "metadata": {},
   "outputs": [
    {
     "name": "stdout",
     "output_type": "stream",
     "text": [
      "바닥 | ['커피1', '커피2', '커피3', '커피4', '커피5']\n"
     ]
    }
   ],
   "source": [
    "## 메인\n",
    "push('커피1')\n",
    "push('커피2')\n",
    "push('커피3')\n",
    "push('커피4')\n",
    "push('커피5')\n",
    "print('바닥 |', stack)"
   ]
  },
  {
   "cell_type": "code",
   "execution_count": 4,
   "id": "b472ce19",
   "metadata": {},
   "outputs": [
    {
     "name": "stdout",
     "output_type": "stream",
     "text": [
      "Stack Full\n"
     ]
    }
   ],
   "source": [
    "push('녹차')"
   ]
  },
  {
   "cell_type": "code",
   "execution_count": null,
   "id": "ec249b52",
   "metadata": {},
   "outputs": [],
   "source": []
  }
 ],
 "metadata": {
  "kernelspec": {
   "display_name": "Python 3",
   "language": "python",
   "name": "python3"
  },
  "language_info": {
   "codemirror_mode": {
    "name": "ipython",
    "version": 3
   },
   "file_extension": ".py",
   "mimetype": "text/x-python",
   "name": "python",
   "nbconvert_exporter": "python",
   "pygments_lexer": "ipython3",
   "version": "3.8.8"
  }
 },
 "nbformat": 4,
 "nbformat_minor": 5
}
