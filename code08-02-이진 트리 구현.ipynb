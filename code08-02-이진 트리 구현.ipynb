{
 "cells": [
  {
   "cell_type": "code",
   "execution_count": 6,
   "id": "33e08600",
   "metadata": {},
   "outputs": [],
   "source": [
    "## 함수\n",
    "class TreeNode(): # 트리노드의 틀 (붕어빵 기계)\n",
    "    def __init__(self):\n",
    "        self.left=None\n",
    "        self.data=None\n",
    "        self.right=None"
   ]
  },
  {
   "cell_type": "code",
   "execution_count": 7,
   "id": "89691058",
   "metadata": {},
   "outputs": [],
   "source": [
    "## 전역\n",
    "memory=[]\n",
    "root=None\n",
    "## 실제 데이터\n",
    "nameAry=['블랙핑크', '레드벨벳', '마마무', '에이핑크', '걸스데이', '트와이스']\n"
   ]
  },
  {
   "cell_type": "code",
   "execution_count": 8,
   "id": "1a70e3a0",
   "metadata": {},
   "outputs": [
    {
     "name": "stdout",
     "output_type": "stream",
     "text": [
      "이진 탐색 트리! 구성 완료\n"
     ]
    }
   ],
   "source": [
    "## 메인\n",
    "# 첫 노드 생성(약간 다름)\n",
    "node=TreeNode()\n",
    "node.data=nameAry[0]\n",
    "root=node # 핵심\n",
    "memory.append(root)\n",
    "\n",
    "for name in nameAry[1:] : #'[레드벨벳', '마마무', ...\n",
    "    node = TreeNode()\n",
    "    node.data=name\n",
    "    \n",
    "    current = root\n",
    "    while True : # 몇번 비교해야 자리잡을지 모름.\n",
    "        if name < current.data :\n",
    "            if current.left == None :\n",
    "                current.left = node\n",
    "                break\n",
    "            current = current.left\n",
    "        else :\n",
    "            if current.right == None :\n",
    "                current.right = node\n",
    "                break\n",
    "            current = current.right\n",
    "            \n",
    "    memory.append(node)\n",
    "\n",
    "print('이진 탐색 트리! 구성 완료')"
   ]
  },
  {
   "cell_type": "code",
   "execution_count": 18,
   "id": "9f967a35",
   "metadata": {},
   "outputs": [
    {
     "name": "stdout",
     "output_type": "stream",
     "text": [
      "마마무 찾았다\n"
     ]
    }
   ],
   "source": [
    "## 데이터를 검색(=탐색)할 때 완전 효율적\n",
    "findName = '마마무'\n",
    "\n",
    "current = root\n",
    "while True :\n",
    "    if current.data == findName :\n",
    "        print(findName, '찾았다')\n",
    "        break\n",
    "    elif findName < current.data :\n",
    "        if current.left == None :\n",
    "            print('아쉽~~ 없음...')\n",
    "            break\n",
    "        current = current.left\n",
    "    else :\n",
    "        if current.right == None :\n",
    "            print('아쉽~~ 없음...')\n",
    "            break\n",
    "        current = current.right"
   ]
  },
  {
   "cell_type": "code",
   "execution_count": null,
   "id": "1af21c15",
   "metadata": {},
   "outputs": [],
   "source": []
  }
 ],
 "metadata": {
  "kernelspec": {
   "display_name": "Python 3",
   "language": "python",
   "name": "python3"
  },
  "language_info": {
   "codemirror_mode": {
    "name": "ipython",
    "version": 3
   },
   "file_extension": ".py",
   "mimetype": "text/x-python",
   "name": "python",
   "nbconvert_exporter": "python",
   "pygments_lexer": "ipython3",
   "version": "3.8.8"
  }
 },
 "nbformat": 4,
 "nbformat_minor": 5
}
